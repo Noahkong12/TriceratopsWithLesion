{
 "cells": [
  {
   "cell_type": "code",
   "execution_count": 3,
   "metadata": {},
   "outputs": [
    {
     "name": "stdout",
     "output_type": "stream",
     "text": [
      "1-3-3-scalar\n"
     ]
    },
    {
     "name": "stderr",
     "output_type": "stream",
     "text": [
      "100%|██████████| 24999/24999 [00:06<00:00, 3671.88it/s]\n"
     ]
    },
    {
     "name": "stdout",
     "output_type": "stream",
     "text": [
      "Training error : 0.0012020206801411587\n"
     ]
    },
    {
     "name": "stderr",
     "output_type": "stream",
     "text": [
      "100%|██████████| 2500/2500 [00:00<00:00, 3561.55it/s]\n"
     ]
    },
    {
     "name": "stdout",
     "output_type": "stream",
     "text": [
      "Testing error without lesion : {'error0': 0.022148991802790764, 'error1': 0.01745059583811277, 'error2': 0.01975632179535594, 'error_whole': 0.019878073212016865}\n"
     ]
    },
    {
     "name": "stderr",
     "output_type": "stream",
     "text": [
      "100%|██████████| 24999/24999 [00:05<00:00, 4534.74it/s]\n"
     ]
    },
    {
     "name": "stdout",
     "output_type": "stream",
     "text": [
      "Training error : 0.005122737107145005\n"
     ]
    },
    {
     "name": "stderr",
     "output_type": "stream",
     "text": [
      "100%|██████████| 2500/2500 [00:00<00:00, 3737.33it/s]\n"
     ]
    },
    {
     "name": "stdout",
     "output_type": "stream",
     "text": [
      "Testing error without lesion : {'error0': 0.026246327844662166, 'error1': 0.0664985141808906, 'error2': 0.06240539181989366, 'error_whole': 0.05478854820060498}\n"
     ]
    },
    {
     "name": "stderr",
     "output_type": "stream",
     "text": [
      "100%|██████████| 24999/24999 [00:06<00:00, 4088.38it/s]\n"
     ]
    },
    {
     "name": "stdout",
     "output_type": "stream",
     "text": [
      "Training error : 0.002888456025696524\n"
     ]
    },
    {
     "name": "stderr",
     "output_type": "stream",
     "text": [
      "100%|██████████| 2500/2500 [00:00<00:00, 3533.11it/s]\n"
     ]
    },
    {
     "name": "stdout",
     "output_type": "stream",
     "text": [
      "Testing error without lesion : {'error0': 0.023034752618240357, 'error1': 0.03205114544615192, 'error2': 0.020595857282227233, 'error_whole': 0.02570385891770461}\n"
     ]
    },
    {
     "name": "stderr",
     "output_type": "stream",
     "text": [
      "100%|██████████| 24999/24999 [00:05<00:00, 4234.53it/s]\n"
     ]
    },
    {
     "name": "stdout",
     "output_type": "stream",
     "text": [
      "Training error : 0.003638308505721182\n"
     ]
    },
    {
     "name": "stderr",
     "output_type": "stream",
     "text": [
      "100%|██████████| 2500/2500 [00:00<00:00, 2639.05it/s]\n"
     ]
    },
    {
     "name": "stdout",
     "output_type": "stream",
     "text": [
      "Testing error without lesion : {'error0': 0.042807955591437415, 'error1': 0.03473048088564564, 'error2': 0.031238585972589977, 'error_whole': 0.036581309517446065}\n"
     ]
    },
    {
     "name": "stderr",
     "output_type": "stream",
     "text": [
      "100%|██████████| 24999/24999 [00:04<00:00, 5086.97it/s]\n"
     ]
    },
    {
     "name": "stdout",
     "output_type": "stream",
     "text": [
      "Training error : 0.0027341700572083055\n"
     ]
    },
    {
     "name": "stderr",
     "output_type": "stream",
     "text": [
      "100%|██████████| 2500/2500 [00:00<00:00, 3480.55it/s]\n"
     ]
    },
    {
     "name": "stdout",
     "output_type": "stream",
     "text": [
      "Testing error without lesion : {'error0': 0.02416471175148489, 'error1': 0.03438382052673993, 'error2': 0.021583785916674814, 'error_whole': 0.027276609164534265}\n"
     ]
    },
    {
     "name": "stderr",
     "output_type": "stream",
     "text": [
      "100%|██████████| 24999/24999 [00:05<00:00, 4482.15it/s]\n"
     ]
    },
    {
     "name": "stdout",
     "output_type": "stream",
     "text": [
      "Training error : 0.001577547307996997\n"
     ]
    },
    {
     "name": "stderr",
     "output_type": "stream",
     "text": [
      "100%|██████████| 2500/2500 [00:00<00:00, 3514.41it/s]\n"
     ]
    },
    {
     "name": "stdout",
     "output_type": "stream",
     "text": [
      "Testing error without lesion : {'error0': 0.08176660105350944, 'error1': 0.2100712742380942, 'error2': 0.09919422011204454, 'error_whole': 0.14219143271366846}\n"
     ]
    },
    {
     "name": "stderr",
     "output_type": "stream",
     "text": [
      "100%|██████████| 24999/24999 [00:05<00:00, 4548.29it/s]\n"
     ]
    },
    {
     "name": "stdout",
     "output_type": "stream",
     "text": [
      "Training error : 0.0032364112978547173\n"
     ]
    },
    {
     "name": "stderr",
     "output_type": "stream",
     "text": [
      "100%|██████████| 2500/2500 [00:00<00:00, 3856.81it/s]\n"
     ]
    },
    {
     "name": "stdout",
     "output_type": "stream",
     "text": [
      "Testing error without lesion : {'error0': 0.07627797079901188, 'error1': 0.05219491582238513, 'error2': 0.05961045011800719, 'error_whole': 0.06349814650888691}\n"
     ]
    },
    {
     "name": "stderr",
     "output_type": "stream",
     "text": [
      "100%|██████████| 24999/24999 [00:05<00:00, 4327.20it/s]\n"
     ]
    },
    {
     "name": "stdout",
     "output_type": "stream",
     "text": [
      "Training error : 0.004481458047577518\n"
     ]
    },
    {
     "name": "stderr",
     "output_type": "stream",
     "text": [
      "100%|██████████| 2500/2500 [00:00<00:00, 3026.48it/s]\n"
     ]
    },
    {
     "name": "stdout",
     "output_type": "stream",
     "text": [
      "Testing error without lesion : {'error0': 0.06965788648718735, 'error1': 0.04113486783387211, 'error2': 0.047955836550208, 'error_whole': 0.054295674354415714}\n"
     ]
    },
    {
     "name": "stderr",
     "output_type": "stream",
     "text": [
      "100%|██████████| 24999/24999 [00:05<00:00, 4282.50it/s]\n"
     ]
    },
    {
     "name": "stdout",
     "output_type": "stream",
     "text": [
      "Training error : 0.010845014471778087\n"
     ]
    },
    {
     "name": "stderr",
     "output_type": "stream",
     "text": [
      "100%|██████████| 2500/2500 [00:00<00:00, 3495.83it/s]\n"
     ]
    },
    {
     "name": "stdout",
     "output_type": "stream",
     "text": [
      "Testing error without lesion : {'error0': 0.1165176387540045, 'error1': 0.2966544018771865, 'error2': 0.29161774196199897, 'error_whole': 0.24941337956689158}\n"
     ]
    },
    {
     "name": "stderr",
     "output_type": "stream",
     "text": [
      "100%|██████████| 24999/24999 [00:05<00:00, 4604.65it/s]\n"
     ]
    },
    {
     "name": "stdout",
     "output_type": "stream",
     "text": [
      "Training error : 0.5775484482313701\n"
     ]
    },
    {
     "name": "stderr",
     "output_type": "stream",
     "text": [
      "100%|██████████| 2500/2500 [00:00<00:00, 4417.51it/s]"
     ]
    },
    {
     "name": "stdout",
     "output_type": "stream",
     "text": [
      "Testing error without lesion : {'error0': 0.2249283512418881, 'error1': 0.3832803638554778, 'error2': 0.3247820435447408, 'error_whole': 0.3177944704357831}\n"
     ]
    },
    {
     "name": "stderr",
     "output_type": "stream",
     "text": [
      "\n"
     ]
    },
    {
     "data": {
      "text/plain": [
       "<Figure size 1000x800 with 0 Axes>"
      ]
     },
     "metadata": {},
     "output_type": "display_data"
    }
   ],
   "source": [
    "# -----------------------------------------------------------------------------\n",
    "# Gated working memory with an echo state network\n",
    "# Copyright (c) 2018 Nicolas P. Rougier\n",
    "#\n",
    "# Distributed under the terms of the BSD License.\n",
    "# -----------------------------------------------------------------------------\n",
    "import numpy as np\n",
    "import matplotlib.pyplot as plt\n",
    "from data import generate_data, smoothen, str_to_bmp, convert_data \n",
    "from model_modified import generate_model, train_model, test_model\n",
    "from identify_neurons import identify_neurons\n",
    "from lesion import lesion\n",
    "import sys\n",
    "import os\n",
    "\n",
    "if __name__ == '__main__':\n",
    "    # Display\n",
    "    fig = plt.figure(figsize=(10,8))\n",
    "    fig.patch.set_alpha(0.0)\n",
    "    n_subplots = 1\n",
    "\n",
    "    # 1-3-3 scalar task\n",
    "    # Random generator initialization\n",
    "    task = \"1-3-3-scalar\"\n",
    "    n_gate = 3\n",
    "    print(task)\n",
    "\n",
    "    np.random.seed(1)\n",
    "\n",
    "    save_err = {}\n",
    "    save_w_out = {}\n",
    "\n",
    "    initial_model = generate_model(shape=(1+n_gate,1000,n_gate), sparsity=0.5,\n",
    "                                radius=0.1, scaling=(1.0, 0.33), leak=1.0,\n",
    "                                noise=(0.000, 0.0000, 0.000), seed = 90)\n",
    "\n",
    "    # Build memory\n",
    "    for i in range(100,1001,100 ):\n",
    "\n",
    "        \n",
    "        model = lesion(initial_model, np.arange(i))\n",
    "\n",
    "        # Training data\n",
    "        n = 25000\n",
    "        values = np.random.uniform(-1, +1, n)\n",
    "        ticks = np.random.uniform(0, 1, (n, n_gate)) < 0.01\n",
    "        train_data = generate_data(values, ticks)\n",
    "\n",
    "        # Testing data\n",
    "        n = 2500\n",
    "        values = smoothen(np.random.uniform(-1, +1, n))\n",
    "        ticks = np.random.uniform(0, 1, (n, n_gate)) < 0.01\n",
    "        test_data = generate_data(values, ticks, last = train_data[\"output\"][-1])\n",
    "\n",
    "        error = train_model(model, train_data, seed = 90)\n",
    "        print(\"Training error : {0}\".format(error))\n",
    "\n",
    "        # # identify the neurons to be lesioned\n",
    "        # num_lesion_neurons = 1\n",
    "        # neurons_lesion_dict = identify_neurons(model['W_out'], num_lesion_neurons)   # a dictionary of lesioned neurons, choices made on output/method\n",
    "        # neurons_lesion = neurons_lesion_dict['random, output 2']\n",
    "\n",
    "        # lesion correspoing weights of selected neurons\n",
    "        # lesioned_model = lesion(model, neurons_lesion)\n",
    "\n",
    "        error_wo_lesion = test_model(model, test_data, 90)\n",
    "        save_err[ f'{i} neurons'] = error_wo_lesion\n",
    "        save_w_out[f'{i} neurons'] = model['W_out']\n",
    "\n",
    "\n",
    "\n",
    "\n",
    "\n",
    "        #error_w_lesion = test_model(lesioned_model, test_data, 42)\n",
    "        print(\"Testing error without lesion : {0}\".format(error_wo_lesion))\n",
    "        #print(\"Testing error with lesion : {0}\".format(error_w_lesion))\n",
    "        # np.save(files[0], test_data)\n",
    "        # np.save(files[1], model[\"output\"])\n",
    "        # np.save(files[2], model[\"state\"])\n",
    "\n",
    "        # Display\n",
    "        # colors = plt.rcParams[\"axes.prop_cycle\"].by_key()[\"color\"]\n",
    "        # data = test_data\n",
    "\n",
    "        # ax2 = plt.subplot(n_subplots, 1, 1)\n",
    "        # ax2.tick_params(axis='both', which='major', labelsize=8)\n",
    "        # ax2.plot(data[\"input\"][:,0],  color='0.75', lw=1.0)\n",
    "\n",
    "        # X, Y = np.arange(len(data)), np.ones(len(data))\n",
    "        # for i in range(n_gate):\n",
    "        #     C = np.zeros((len(data),4))\n",
    "        #     r = eval(\"0x\"+colors[i][1:3])\n",
    "        #     g = eval(\"0x\"+colors[i][3:5])\n",
    "        #     b = eval(\"0x\"+colors[i][5:7])\n",
    "        #     C[:,0] = r/255\n",
    "        #     C[:,1] = g/255\n",
    "        #     C[:,2] = b/255\n",
    "        #     C[:,3] = data[\"input\"][:,1+i]\n",
    "        #     ax2.scatter(X, -1.05*Y-0.04*i, s=1.5, facecolors=C, edgecolors=None)\n",
    "        #     ax2.plot(data[\"output\"][:,i],  color='0.75', lw=1.0)\n",
    "        #     ax2.plot(model[\"output\"][:,i], lw=1.5, zorder=10)\n",
    "        #     #ax2.plot(lesioned_model[\"output\"][:,i], lw=1.5, zorder=10)\n",
    "\n",
    "        # ax2.text(-25, -1.05, \"Ticks:\",\n",
    "        #         fontsize=8, transform=ax2.transData,\n",
    "        #         horizontalalignment=\"right\", verticalalignment=\"center\")\n",
    "        # ax2.set_ylim(-1.25,1.25)\n",
    "        # ax2.yaxis.tick_right()\n",
    "        # ax2.set_ylabel(\"Input & Output\")\n",
    "        # ax2.text(0.01, 0.9, \"B\",\n",
    "        #         fontsize=16, fontweight=\"bold\", transform=ax2.transAxes,\n",
    "        #         horizontalalignment=\"left\", verticalalignment=\"top\")\n",
    "        # plt.show()"
   ]
  },
  {
   "cell_type": "code",
   "execution_count": null,
   "metadata": {},
   "outputs": [],
   "source": []
  },
  {
   "cell_type": "code",
   "execution_count": 4,
   "metadata": {},
   "outputs": [
    {
     "data": {
      "image/png": "[encoded data removed]",
      "text/plain": [
       "<Figure size 640x480 with 1 Axes>"
      ]
     },
     "metadata": {},
     "output_type": "display_data"
    }
   ],
   "source": [
    "save_err\n",
    "\n",
    "list(list(save_err.values())[0].values())\n",
    "\n",
    "y = []\n",
    "\n",
    "for i in range(10):\n",
    "    y.append(list(list(save_err.values())[i].values()))\n",
    "\n",
    "y\n",
    "x=np.arange(100, 1001, 100)\n",
    "# ax.plot([1, 2, 3], label=)\n",
    "# ax.legend()\n",
    "plt.plot(x,y, label=['output 0','output 1','output 2','total'])\n",
    "plt.legend()\n",
    "plt.show()\n"
   ]
  },
  {
   "cell_type": "code",
   "execution_count": 25,
   "metadata": {},
   "outputs": [
    {
     "data": {
      "text/plain": [
       "{'error0': 0.21515692407411496,\n",
       " 'error1': 0.049173319971433725,\n",
       " 'error2': 0.24974494761265692,\n",
       " 'error_whole': 0.1924257919580916}"
      ]
     },
     "execution_count": 25,
     "metadata": {},
     "output_type": "execute_result"
    }
   ],
   "source": [
    "list(list(save_err.values())[7].values())\n",
    "\n",
    "save_err[\"800 neurons\"]\n"
   ]
  },
  {
   "cell_type": "code",
   "execution_count": 1,
   "metadata": {},
   "outputs": [],
   "source": [
    "import numpy as np\n",
    "a= np.arange(1000)"
   ]
  },
  {
   "cell_type": "code",
   "execution_count": 3,
   "metadata": {},
   "outputs": [
    {
     "data": {
      "text/plain": [
       "array([  0,   1,   2,   3,   4,   5,   6,   7,   8,   9,  10,  11,  12,\n",
       "        13,  14,  15,  16,  17,  18,  19,  20,  21,  22,  23,  24,  25,\n",
       "        26,  27,  28,  29,  30,  31,  32,  33,  34,  35,  36,  37,  38,\n",
       "        39,  40,  41,  42,  43,  44,  45,  46,  47,  48,  49,  50,  51,\n",
       "        52,  53,  54,  55,  56,  57,  58,  59,  60,  61,  62,  63,  64,\n",
       "        65,  66,  67,  68,  69,  70,  71,  72,  73,  74,  75,  76,  77,\n",
       "        78,  79,  80,  81,  82,  83,  84,  85,  86,  87,  88,  89,  90,\n",
       "        91,  92,  93,  94,  95,  96,  97,  98,  99, 100, 101, 102, 103,\n",
       "       104, 105, 106, 107, 108, 109, 110, 111, 112, 113, 114, 115, 116,\n",
       "       117, 118, 119, 120, 121, 122, 123, 124, 125, 126, 127, 128, 129,\n",
       "       130, 131, 132, 133, 134, 135, 136, 137, 138, 139, 140, 141, 142,\n",
       "       143, 144, 145, 146, 147, 148, 149, 150, 151, 152, 153, 154, 155,\n",
       "       156, 157, 158, 159, 160, 161, 162, 163, 164, 165, 166, 167, 168,\n",
       "       169, 170, 171, 172, 173, 174, 175, 176, 177, 178, 179, 180, 181,\n",
       "       182, 183, 184, 185, 186, 187, 188, 189, 190, 191, 192, 193, 194,\n",
       "       195, 196, 197, 198, 199, 200, 201, 202, 203, 204, 205, 206, 207,\n",
       "       208, 209, 210, 211, 212, 213, 214, 215, 216, 217, 218, 219, 220,\n",
       "       221, 222, 223, 224, 225, 226, 227, 228, 229, 230, 231, 232, 233,\n",
       "       234, 235, 236, 237, 238, 239, 240, 241, 242, 243, 244, 245, 246,\n",
       "       247, 248, 249, 250, 251, 252, 253, 254, 255, 256, 257, 258, 259,\n",
       "       260, 261, 262, 263, 264, 265, 266, 267, 268, 269, 270, 271, 272,\n",
       "       273, 274, 275, 276, 277, 278, 279, 280, 281, 282, 283, 284, 285,\n",
       "       286, 287, 288, 289, 290, 291, 292, 293, 294, 295, 296, 297, 298,\n",
       "       299, 300, 301, 302, 303, 304, 305, 306, 307, 308, 309, 310, 311,\n",
       "       312, 313, 314, 315, 316, 317, 318, 319, 320, 321, 322, 323, 324,\n",
       "       325, 326, 327, 328, 329, 330, 331, 332, 333, 334, 335, 336, 337,\n",
       "       338, 339, 340, 341, 342, 343, 344, 345, 346, 347, 348, 349, 350,\n",
       "       351, 352, 353, 354, 355, 356, 357, 358, 359, 360, 361, 362, 363,\n",
       "       364, 365, 366, 367, 368, 369, 370, 371, 372, 373, 374, 375, 376,\n",
       "       377, 378, 379, 380, 381, 382, 383, 384, 385, 386, 387, 388, 389,\n",
       "       390, 391, 392, 393, 394, 395, 396, 397, 398, 399, 400, 401, 402,\n",
       "       403, 404, 405, 406, 407, 408, 409, 410, 411, 412, 413, 414, 415,\n",
       "       416, 417, 418, 419, 420, 421, 422, 423, 424, 425, 426, 427, 428,\n",
       "       429, 430, 431, 432, 433, 434, 435, 436, 437, 438, 439, 440, 441,\n",
       "       442, 443, 444, 445, 446, 447, 448, 449, 450, 451, 452, 453, 454,\n",
       "       455, 456, 457, 458, 459, 460, 461, 462, 463, 464, 465, 466, 467,\n",
       "       468, 469, 470, 471, 472, 473, 474, 475, 476, 477, 478, 479, 480,\n",
       "       481, 482, 483, 484, 485, 486, 487, 488, 489, 490, 491, 492, 493,\n",
       "       494, 495, 496, 497, 498, 499, 500, 501, 502, 503, 504, 505, 506,\n",
       "       507, 508, 509, 510, 511, 512, 513, 514, 515, 516, 517, 518, 519,\n",
       "       520, 521, 522, 523, 524, 525, 526, 527, 528, 529, 530, 531, 532,\n",
       "       533, 534, 535, 536, 537, 538, 539, 540, 541, 542, 543, 544, 545,\n",
       "       546, 547, 548, 549, 550, 551, 552, 553, 554, 555, 556, 557, 558,\n",
       "       559, 560, 561, 562, 563, 564, 565, 566, 567, 568, 569, 570, 571,\n",
       "       572, 573, 574, 575, 576, 577, 578, 579, 580, 581, 582, 583, 584,\n",
       "       585, 586, 587, 588, 589, 590, 591, 592, 593, 594, 595, 596, 597,\n",
       "       598, 599, 600, 601, 602, 603, 604, 605, 606, 607, 608, 609, 610,\n",
       "       611, 612, 613, 614, 615, 616, 617, 618, 619, 620, 621, 622, 623,\n",
       "       624, 625, 626, 627, 628, 629, 630, 631, 632, 633, 634, 635, 636,\n",
       "       637, 638, 639, 640, 641, 642, 643, 644, 645, 646, 647, 648, 649,\n",
       "       650, 651, 652, 653, 654, 655, 656, 657, 658, 659, 660, 661, 662,\n",
       "       663, 664, 665, 666, 667, 668, 669, 670, 671, 672, 673, 674, 675,\n",
       "       676, 677, 678, 679, 680, 681, 682, 683, 684, 685, 686, 687, 688,\n",
       "       689, 690, 691, 692, 693, 694, 695, 696, 697, 698, 699, 700, 701,\n",
       "       702, 703, 704, 705, 706, 707, 708, 709, 710, 711, 712, 713, 714,\n",
       "       715, 716, 717, 718, 719, 720, 721, 722, 723, 724, 725, 726, 727,\n",
       "       728, 729, 730, 731, 732, 733, 734, 735, 736, 737, 738, 739, 740,\n",
       "       741, 742, 743, 744, 745, 746, 747, 748, 749, 750, 751, 752, 753,\n",
       "       754, 755, 756, 757, 758, 759, 760, 761, 762, 763, 764, 765, 766,\n",
       "       767, 768, 769, 770, 771, 772, 773, 774, 775, 776, 777, 778, 779,\n",
       "       780, 781, 782, 783, 784, 785, 786, 787, 788, 789, 790, 791, 792,\n",
       "       793, 794, 795, 796, 797, 798, 799, 800, 801, 802, 803, 804, 805,\n",
       "       806, 807, 808, 809, 810, 811, 812, 813, 814, 815, 816, 817, 818,\n",
       "       819, 820, 821, 822, 823, 824, 825, 826, 827, 828, 829, 830, 831,\n",
       "       832, 833, 834, 835, 836, 837, 838, 839, 840, 841, 842, 843, 844,\n",
       "       845, 846, 847, 848, 849, 850, 851, 852, 853, 854, 855, 856, 857,\n",
       "       858, 859, 860, 861, 862, 863, 864, 865, 866, 867, 868, 869, 870,\n",
       "       871, 872, 873, 874, 875, 876, 877, 878, 879, 880, 881, 882, 883,\n",
       "       884, 885, 886, 887, 888, 889, 890, 891, 892, 893, 894, 895, 896,\n",
       "       897, 898, 899, 900, 901, 902, 903, 904, 905, 906, 907, 908, 909,\n",
       "       910, 911, 912, 913, 914, 915, 916, 917, 918, 919, 920, 921, 922,\n",
       "       923, 924, 925, 926, 927, 928, 929, 930, 931, 932, 933, 934, 935,\n",
       "       936, 937, 938, 939, 940, 941, 942, 943, 944, 945, 946, 947, 948,\n",
       "       949, 950, 951, 952, 953, 954, 955, 956, 957, 958, 959, 960, 961,\n",
       "       962, 963, 964, 965, 966, 967, 968, 969, 970, 971, 972, 973, 974,\n",
       "       975, 976, 977, 978, 979, 980, 981, 982, 983, 984, 985, 986, 987,\n",
       "       988, 989, 990, 991, 992, 993, 994, 995, 996, 997, 998, 999])"
      ]
     },
     "execution_count": 3,
     "metadata": {},
     "output_type": "execute_result"
    }
   ],
   "source": [
    "a[-1000:]"
   ]
  },
  {
   "cell_type": "code",
   "execution_count": null,
   "metadata": {},
   "outputs": [],
   "source": []
  }
 ],
 "metadata": {
  "kernelspec": {
   "display_name": "base",
   "language": "python",
   "name": "python3"
  },
  "language_info": {
   "codemirror_mode": {
    "name": "ipython",
    "version": 3
   },
   "file_extension": ".py",
   "mimetype": "text/x-python",
   "name": "python",
   "nbconvert_exporter": "python",
   "pygments_lexer": "ipython3",
   "version": "3.10.9"
  },
  "orig_nbformat": 4
 },
 "nbformat": 4,
 "nbformat_minor": 2
}
