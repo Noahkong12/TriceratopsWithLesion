{
 "cells": [
  {
   "cell_type": "code",
   "execution_count": 35,
   "metadata": {},
   "outputs": [
    {
     "name": "stdout",
     "output_type": "stream",
     "text": [
      "1-3-3-scalar\n"
     ]
    },
    {
     "name": "stderr",
     "output_type": "stream",
     "text": [
      "100%|██████████| 24999/24999 [00:34<00:00, 733.72it/s] \n"
     ]
    },
    {
     "name": "stdout",
     "output_type": "stream",
     "text": [
      "Training error : 0.001176054543675101\n"
     ]
    },
    {
     "name": "stderr",
     "output_type": "stream",
     "text": [
      "100%|██████████| 2500/2500 [00:07<00:00, 342.32it/s]\n",
      "100%|██████████| 24999/24999 [00:33<00:00, 741.17it/s]\n"
     ]
    },
    {
     "name": "stdout",
     "output_type": "stream",
     "text": [
      "Training error : 0.005120902192175615\n"
     ]
    },
    {
     "name": "stderr",
     "output_type": "stream",
     "text": [
      "100%|██████████| 2500/2500 [00:04<00:00, 516.14it/s]\n",
      "100%|██████████| 24999/24999 [00:37<00:00, 660.82it/s]\n"
     ]
    },
    {
     "name": "stdout",
     "output_type": "stream",
     "text": [
      "Training error : 0.0028912660220019315\n"
     ]
    },
    {
     "name": "stderr",
     "output_type": "stream",
     "text": [
      "100%|██████████| 2500/2500 [00:03<00:00, 665.87it/s]\n",
      "100%|██████████| 24999/24999 [00:39<00:00, 633.03it/s]\n"
     ]
    },
    {
     "name": "stdout",
     "output_type": "stream",
     "text": [
      "Training error : 0.0036385821380534797\n"
     ]
    },
    {
     "name": "stderr",
     "output_type": "stream",
     "text": [
      "100%|██████████| 2500/2500 [00:04<00:00, 558.87it/s]\n",
      "100%|██████████| 24999/24999 [00:39<00:00, 636.56it/s] \n"
     ]
    },
    {
     "name": "stdout",
     "output_type": "stream",
     "text": [
      "Training error : 0.0027240491180454403\n"
     ]
    },
    {
     "name": "stderr",
     "output_type": "stream",
     "text": [
      "100%|██████████| 2500/2500 [00:05<00:00, 481.26it/s]\n",
      "100%|██████████| 24999/24999 [00:38<00:00, 642.00it/s]\n"
     ]
    },
    {
     "name": "stdout",
     "output_type": "stream",
     "text": [
      "Training error : 0.0014410660077623198\n"
     ]
    },
    {
     "name": "stderr",
     "output_type": "stream",
     "text": [
      "100%|██████████| 2500/2500 [00:03<00:00, 729.65it/s]\n",
      "100%|██████████| 24999/24999 [00:33<00:00, 754.73it/s] \n"
     ]
    },
    {
     "name": "stdout",
     "output_type": "stream",
     "text": [
      "Training error : 0.003173672604764233\n"
     ]
    },
    {
     "name": "stderr",
     "output_type": "stream",
     "text": [
      "100%|██████████| 2500/2500 [00:02<00:00, 937.83it/s] \n",
      "100%|██████████| 24999/24999 [00:33<00:00, 741.79it/s] \n"
     ]
    },
    {
     "name": "stdout",
     "output_type": "stream",
     "text": [
      "Training error : 0.0047381683318744065\n"
     ]
    },
    {
     "name": "stderr",
     "output_type": "stream",
     "text": [
      "100%|██████████| 2500/2500 [00:02<00:00, 1070.51it/s]\n",
      "100%|██████████| 24999/24999 [00:32<00:00, 773.84it/s] \n"
     ]
    },
    {
     "name": "stdout",
     "output_type": "stream",
     "text": [
      "Training error : 0.012018954778175116\n"
     ]
    },
    {
     "name": "stderr",
     "output_type": "stream",
     "text": [
      "100%|██████████| 2500/2500 [00:03<00:00, 693.04it/s]\n",
      "100%|██████████| 24999/24999 [00:33<00:00, 746.83it/s]\n"
     ]
    },
    {
     "name": "stdout",
     "output_type": "stream",
     "text": [
      "Training error : 0.5775484482313701\n"
     ]
    },
    {
     "name": "stderr",
     "output_type": "stream",
     "text": [
      "100%|██████████| 2500/2500 [00:05<00:00, 450.52it/s]\n"
     ]
    },
    {
     "data": {
      "text/plain": [
       "<Figure size 720x576 with 0 Axes>"
      ]
     },
     "metadata": {},
     "output_type": "display_data"
    }
   ],
   "source": [
    "# -----------------------------------------------------------------------------\n",
    "# Gated working memory with an echo state network\n",
    "# Copyright (c) 2018 Nicolas P. Rougier\n",
    "#\n",
    "# Distributed under the terms of the BSD License.\n",
    "# -----------------------------------------------------------------------------\n",
    "import numpy as np\n",
    "import matplotlib.pyplot as plt\n",
    "from data import generate_data, smoothen, str_to_bmp, convert_data \n",
    "from model_modified import generate_model, train_model, test_model\n",
    "from identify_neurons import identify_neurons\n",
    "from lesion import lesion\n",
    "import sys\n",
    "import os\n",
    "\n",
    "if __name__ == '__main__':\n",
    "    # Display\n",
    "    fig = plt.figure(figsize=(10,8))\n",
    "    fig.patch.set_alpha(0.0)\n",
    "    n_subplots = 1\n",
    "\n",
    "    # 1-3-3 scalar task\n",
    "    # Random generator initialization\n",
    "    task = \"1-3-3-scalar\"\n",
    "    n_gate = 3\n",
    "    print(task)\n",
    "\n",
    "    np.random.seed(1)\n",
    "\n",
    "    save_err = {}\n",
    "    save_w_out = {}\n",
    "\n",
    "    initial_model = generate_model(shape=(1+n_gate,1000,n_gate), sparsity=0.5,\n",
    "                                radius=0.1, scaling=(1.0, 0.33), leak=1.0,\n",
    "                                noise=(0.000, 0.0000, 0.000), seed = 1)\n",
    "\n",
    "    # Build memory\n",
    "    for i in range(100,1001,100 ):\n",
    "\n",
    "        \n",
    "        model = lesion(initial_model, np.arange(i))\n",
    "\n",
    "        # Training data\n",
    "        n = 25000\n",
    "        values = np.random.uniform(-1, +1, n)\n",
    "        ticks = np.random.uniform(0, 1, (n, n_gate)) < 0.01\n",
    "        train_data = generate_data(values, ticks)\n",
    "\n",
    "        # Testing data\n",
    "        n = 2500\n",
    "        values = smoothen(np.random.uniform(-1, +1, n))\n",
    "        ticks = np.random.uniform(0, 1, (n, n_gate)) < 0.01\n",
    "        test_data = generate_data(values, ticks, last = train_data[\"output\"][-1])\n",
    "\n",
    "        error = train_model(model, train_data, seed =1 )\n",
    "        print(\"Training error : {0}\".format(error))\n",
    "\n",
    "        # # identify the neurons to be lesioned\n",
    "        # num_lesion_neurons = 1\n",
    "        # neurons_lesion_dict = identify_neurons(model['W_out'], num_lesion_neurons)   # a dictionary of lesioned neurons, choices made on output/method\n",
    "        # neurons_lesion = neurons_lesion_dict['random, output 2']\n",
    "\n",
    "        # lesion correspoing weights of selected neurons\n",
    "        # lesioned_model = lesion(model, neurons_lesion)\n",
    "\n",
    "        error_wo_lesion = test_model(model, test_data, 1)\n",
    "        save_err[ f'{i} neurons'] = error_wo_lesion\n",
    "        save_w_out[f'{i} neurons'] = model['W_out']\n",
    "\n",
    "\n",
    "\n",
    "\n",
    "\n",
    "        #error_w_lesion = test_model(lesioned_model, test_data, 42)\n",
    "        print(\"Testing error without lesion : {0}\".format(error_wo_lesion))\n",
    "        #print(\"Testing error with lesion : {0}\".format(error_w_lesion))\n",
    "        # np.save(files[0], test_data)\n",
    "        # np.save(files[1], model[\"output\"])\n",
    "        # np.save(files[2], model[\"state\"])\n",
    "\n",
    "        # Display\n",
    "        # colors = plt.rcParams[\"axes.prop_cycle\"].by_key()[\"color\"]\n",
    "        # data = test_data\n",
    "\n",
    "        # ax2 = plt.subplot(n_subplots, 1, 1)\n",
    "        # ax2.tick_params(axis='both', which='major', labelsize=8)\n",
    "        # ax2.plot(data[\"input\"][:,0],  color='0.75', lw=1.0)\n",
    "\n",
    "        # X, Y = np.arange(len(data)), np.ones(len(data))\n",
    "        # for i in range(n_gate):\n",
    "        #     C = np.zeros((len(data),4))\n",
    "        #     r = eval(\"0x\"+colors[i][1:3])\n",
    "        #     g = eval(\"0x\"+colors[i][3:5])\n",
    "        #     b = eval(\"0x\"+colors[i][5:7])\n",
    "        #     C[:,0] = r/255\n",
    "        #     C[:,1] = g/255\n",
    "        #     C[:,2] = b/255\n",
    "        #     C[:,3] = data[\"input\"][:,1+i]\n",
    "        #     ax2.scatter(X, -1.05*Y-0.04*i, s=1.5, facecolors=C, edgecolors=None)\n",
    "        #     ax2.plot(data[\"output\"][:,i],  color='0.75', lw=1.0)\n",
    "        #     ax2.plot(model[\"output\"][:,i], lw=1.5, zorder=10)\n",
    "        #     #ax2.plot(lesioned_model[\"output\"][:,i], lw=1.5, zorder=10)\n",
    "\n",
    "        # ax2.text(-25, -1.05, \"Ticks:\",\n",
    "        #         fontsize=8, transform=ax2.transData,\n",
    "        #         horizontalalignment=\"right\", verticalalignment=\"center\")\n",
    "        # ax2.set_ylim(-1.25,1.25)\n",
    "        # ax2.yaxis.tick_right()\n",
    "        # ax2.set_ylabel(\"Input & Output\")\n",
    "        # ax2.text(0.01, 0.9, \"B\",\n",
    "        #         fontsize=16, fontweight=\"bold\", transform=ax2.transAxes,\n",
    "        #         horizontalalignment=\"left\", verticalalignment=\"top\")\n",
    "        # plt.show()"
   ]
  },
  {
   "cell_type": "code",
   "execution_count": null,
   "metadata": {},
   "outputs": [],
   "source": []
  },
  {
   "cell_type": "code",
   "execution_count": 36,
   "metadata": {},
   "outputs": [
    {
     "data": {
      "image/png": "[encoded data removed]",
      "text/plain": [
       "<Figure size 432x288 with 1 Axes>"
      ]
     },
     "metadata": {
      "needs_background": "light"
     },
     "output_type": "display_data"
    }
   ],
   "source": [
    "save_err\n",
    "\n",
    "list(list(save_err.values())[0].values())\n",
    "\n",
    "y = []\n",
    "\n",
    "for i in range(10):\n",
    "    y.append(list(list(save_err.values())[i].values()))\n",
    "\n",
    "y\n",
    "x=np.arange(100, 1001, 100)\n",
    "# ax.plot([1, 2, 3], label=)\n",
    "# ax.legend()\n",
    "plt.plot(x,y, label=['output 0','output 1','output 2','total'])\n",
    "plt.legend()\n",
    "plt.show()\n"
   ]
  },
  {
   "cell_type": "code",
   "execution_count": 25,
   "metadata": {},
   "outputs": [
    {
     "data": {
      "text/plain": [
       "{'error0': 0.21515692407411496,\n",
       " 'error1': 0.049173319971433725,\n",
       " 'error2': 0.24974494761265692,\n",
       " 'error_whole': 0.1924257919580916}"
      ]
     },
     "execution_count": 25,
     "metadata": {},
     "output_type": "execute_result"
    }
   ],
   "source": [
    "list(list(save_err.values())[7].values())\n",
    "\n",
    "save_err[\"800 neurons\"]\n"
   ]
  },
  {
   "cell_type": "code",
   "execution_count": 33,
   "metadata": {},
   "outputs": [
    {
     "data": {
      "text/plain": [
       "array([ 0,  1,  2,  3,  4,  5,  6,  7,  8,  9, 10, 11, 12, 13, 14, 15, 16,\n",
       "       17, 18, 19, 20, 21, 22, 23, 24, 25, 26, 27, 28, 29, 30, 31, 32, 33,\n",
       "       34, 35, 36, 37, 38, 39, 40, 41, 42, 43, 44, 45, 46, 47, 48, 49, 50,\n",
       "       51, 52, 53, 54, 55, 56, 57, 58, 59, 60, 61, 62, 63, 64, 65, 66, 67,\n",
       "       68, 69, 70, 71, 72, 73, 74, 75, 76, 77, 78, 79, 80, 81, 82, 83, 84,\n",
       "       85, 86, 87, 88, 89, 90, 91, 92, 93, 94, 95, 96, 97, 98, 99])"
      ]
     },
     "execution_count": 33,
     "metadata": {},
     "output_type": "execute_result"
    }
   ],
   "source": [
    "np.arange(100)"
   ]
  }
 ],
 "metadata": {
  "kernelspec": {
   "display_name": "base",
   "language": "python",
   "name": "python3"
  },
  "language_info": {
   "codemirror_mode": {
    "name": "ipython",
    "version": 3
   },
   "file_extension": ".py",
   "mimetype": "text/x-python",
   "name": "python",
   "nbconvert_exporter": "python",
   "pygments_lexer": "ipython3",
   "version": "3.9.12"
  },
  "orig_nbformat": 4
 },
 "nbformat": 4,
 "nbformat_minor": 2
}
